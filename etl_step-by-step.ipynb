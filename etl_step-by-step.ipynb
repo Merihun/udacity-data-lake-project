{
 "cells": [
  {
   "cell_type": "markdown",
   "metadata": {
    "editable": true
   },
   "source": [
    "## Import Modules"
   ]
  },
  {
   "cell_type": "code",
   "execution_count": 1,
   "metadata": {
    "editable": true,
    "execution": {
     "iopub.execute_input": "2022-09-19T19:44:25.768759Z",
     "iopub.status.busy": "2022-09-19T19:44:25.767764Z",
     "iopub.status.idle": "2022-09-19T19:45:00.274415Z",
     "shell.execute_reply": "2022-09-19T19:45:00.273437Z",
     "shell.execute_reply.started": "2022-09-19T19:44:25.768721Z"
    },
    "tags": []
   },
   "outputs": [
    {
     "data": {
      "application/vnd.jupyter.widget-view+json": {
       "model_id": "4b86164ab4854d638c8546955b80a139",
       "version_major": 2,
       "version_minor": 0
      },
      "text/plain": [
       "VBox()"
      ]
     },
     "metadata": {},
     "output_type": "display_data"
    },
    {
     "name": "stdout",
     "output_type": "stream",
     "text": [
      "Starting Spark application\n"
     ]
    },
    {
     "data": {
      "text/html": [
       "<table>\n",
       "<tr><th>ID</th><th>YARN Application ID</th><th>Kind</th><th>State</th><th>Spark UI</th><th>Driver log</th><th>Current session?</th></tr><tr><td>2</td><td>application_1663609079191_0003</td><td>pyspark</td><td>idle</td><td><a target=\"_blank\" href=\"http://ip-172-31-54-152.ec2.internal:20888/proxy/application_1663609079191_0003/\">Link</a></td><td><a target=\"_blank\" href=\"http://ip-172-31-54-220.ec2.internal:8042/node/containerlogs/container_1663609079191_0003_01_000001/livy\">Link</a></td><td>✔</td></tr></table>"
      ],
      "text/plain": [
       "<IPython.core.display.HTML object>"
      ]
     },
     "metadata": {},
     "output_type": "display_data"
    },
    {
     "data": {
      "application/vnd.jupyter.widget-view+json": {
       "model_id": "",
       "version_major": 2,
       "version_minor": 0
      },
      "text/plain": [
       "FloatProgress(value=0.0, bar_style='info', description='Progress:', layout=Layout(height='25px', width='50%'),…"
      ]
     },
     "metadata": {},
     "output_type": "display_data"
    },
    {
     "name": "stdout",
     "output_type": "stream",
     "text": [
      "SparkSession available as 'spark'.\n"
     ]
    },
    {
     "data": {
      "application/vnd.jupyter.widget-view+json": {
       "model_id": "",
       "version_major": 2,
       "version_minor": 0
      },
      "text/plain": [
       "FloatProgress(value=0.0, bar_style='info', description='Progress:', layout=Layout(height='25px', width='50%'),…"
      ]
     },
     "metadata": {},
     "output_type": "display_data"
    }
   ],
   "source": [
    "import configparser\n",
    "from datetime import datetime\n",
    "import os\n",
    "from pyspark.sql import SparkSession\n",
    "from pyspark.sql.functions import udf, col\n",
    "from pyspark.sql.functions import (year, month, dayofmonth, hour,\n",
    "                                   weekofyear, dayofweek, date_format,\n",
    "                                   monotonically_increasing_id)"
   ]
  },
  {
   "cell_type": "markdown",
   "metadata": {
    "editable": true
   },
   "source": [
    "## AWS Credentials"
   ]
  },
  {
   "cell_type": "code",
   "execution_count": 2,
   "metadata": {
    "editable": true,
    "execution": {
     "iopub.execute_input": "2022-09-19T19:45:04.677813Z",
     "iopub.status.busy": "2022-09-19T19:45:04.674975Z",
     "iopub.status.idle": "2022-09-19T19:45:04.963282Z",
     "shell.execute_reply": "2022-09-19T19:45:04.962327Z",
     "shell.execute_reply.started": "2022-09-19T19:45:04.677763Z"
    },
    "tags": []
   },
   "outputs": [
    {
     "data": {
      "application/vnd.jupyter.widget-view+json": {
       "model_id": "ae7377d533ea41ac9f01e705a56d2fc5",
       "version_major": 2,
       "version_minor": 0
      },
      "text/plain": [
       "VBox()"
      ]
     },
     "metadata": {},
     "output_type": "display_data"
    },
    {
     "data": {
      "application/vnd.jupyter.widget-view+json": {
       "model_id": "",
       "version_major": 2,
       "version_minor": 0
      },
      "text/plain": [
       "FloatProgress(value=0.0, bar_style='info', description='Progress:', layout=Layout(height='25px', width='50%'),…"
      ]
     },
     "metadata": {},
     "output_type": "display_data"
    }
   ],
   "source": [
    "config = configparser.ConfigParser()\n",
    "config.read('dl.cfg')\n",
    "\n",
    "os.environ[\"AWS_ACCESS_KEY_ID\"]= ''\n",
    "os.environ[\"AWS_SECRET_ACCESS_KEY\"]= ''"
   ]
  },
  {
   "cell_type": "code",
   "execution_count": 17,
   "metadata": {
    "editable": true,
    "execution": {
     "iopub.execute_input": "2022-09-19T20:44:33.320913Z",
     "iopub.status.busy": "2022-09-19T20:44:33.320088Z",
     "iopub.status.idle": "2022-09-19T20:44:33.631867Z",
     "shell.execute_reply": "2022-09-19T20:44:33.630923Z",
     "shell.execute_reply.started": "2022-09-19T20:44:33.320874Z"
    },
    "tags": []
   },
   "outputs": [
    {
     "data": {
      "application/vnd.jupyter.widget-view+json": {
       "model_id": "44906a274b9c4b9e9e35e86ada6bfa21",
       "version_major": 2,
       "version_minor": 0
      },
      "text/plain": [
       "VBox()"
      ]
     },
     "metadata": {},
     "output_type": "display_data"
    },
    {
     "data": {
      "application/vnd.jupyter.widget-view+json": {
       "model_id": "",
       "version_major": 2,
       "version_minor": 0
      },
      "text/plain": [
       "FloatProgress(value=0.0, bar_style='info', description='Progress:', layout=Layout(height='25px', width='50%'),…"
      ]
     },
     "metadata": {},
     "output_type": "display_data"
    }
   ],
   "source": [
    "input_data = \"s3a://udacity-dend/\"\n",
    "output_data = \"s3a://jk-loaded-data/\""
   ]
  },
  {
   "cell_type": "markdown",
   "metadata": {
    "editable": true
   },
   "source": [
    "## Create Spark Session"
   ]
  },
  {
   "cell_type": "code",
   "execution_count": 4,
   "metadata": {
    "editable": true,
    "execution": {
     "iopub.execute_input": "2022-09-19T19:45:18.136001Z",
     "iopub.status.busy": "2022-09-19T19:45:18.135632Z",
     "iopub.status.idle": "2022-09-19T19:45:19.771516Z",
     "shell.execute_reply": "2022-09-19T19:45:19.770522Z",
     "shell.execute_reply.started": "2022-09-19T19:45:18.135965Z"
    },
    "tags": []
   },
   "outputs": [
    {
     "data": {
      "application/vnd.jupyter.widget-view+json": {
       "model_id": "9ec13f6b47114c95a15b4505515469ce",
       "version_major": 2,
       "version_minor": 0
      },
      "text/plain": [
       "VBox()"
      ]
     },
     "metadata": {},
     "output_type": "display_data"
    },
    {
     "data": {
      "application/vnd.jupyter.widget-view+json": {
       "model_id": "",
       "version_major": 2,
       "version_minor": 0
      },
      "text/plain": [
       "FloatProgress(value=0.0, bar_style='info', description='Progress:', layout=Layout(height='25px', width='50%'),…"
      ]
     },
     "metadata": {},
     "output_type": "display_data"
    }
   ],
   "source": [
    "\n",
    "\"\"\"Create a apache spark session.\"\"\"\n",
    "spark = SparkSession \\\n",
    "    .builder \\\n",
    "    .config(\"spark.jars.packages\", \"org.apache.hadoop:hadoop-aws:2.7.0\") \\\n",
    "    .getOrCreate()\n"
   ]
  },
  {
   "cell_type": "markdown",
   "metadata": {
    "editable": true
   },
   "source": [
    "## Process Song data"
   ]
  },
  {
   "cell_type": "code",
   "execution_count": 5,
   "metadata": {
    "editable": true,
    "execution": {
     "iopub.execute_input": "2022-09-19T19:45:41.905724Z",
     "iopub.status.busy": "2022-09-19T19:45:41.904040Z",
     "iopub.status.idle": "2022-09-19T19:45:42.225583Z",
     "shell.execute_reply": "2022-09-19T19:45:42.178189Z",
     "shell.execute_reply.started": "2022-09-19T19:45:41.905685Z"
    },
    "tags": []
   },
   "outputs": [
    {
     "data": {
      "application/vnd.jupyter.widget-view+json": {
       "model_id": "60edf6b077614950a8fcc4ce707f884b",
       "version_major": 2,
       "version_minor": 0
      },
      "text/plain": [
       "VBox()"
      ]
     },
     "metadata": {},
     "output_type": "display_data"
    },
    {
     "data": {
      "application/vnd.jupyter.widget-view+json": {
       "model_id": "",
       "version_major": 2,
       "version_minor": 0
      },
      "text/plain": [
       "FloatProgress(value=0.0, bar_style='info', description='Progress:', layout=Layout(height='25px', width='50%'),…"
      ]
     },
     "metadata": {},
     "output_type": "display_data"
    }
   ],
   "source": [
    "# get filepath to song data file\n",
    "song_data = input_data + 'song_data/*/*/*/*.json'"
   ]
  },
  {
   "cell_type": "markdown",
   "metadata": {
    "editable": true
   },
   "source": [
    "## Extract Song table & Create parquet file"
   ]
  },
  {
   "cell_type": "code",
   "execution_count": 7,
   "metadata": {
    "editable": true,
    "execution": {
     "iopub.execute_input": "2022-09-19T20:03:02.722086Z",
     "iopub.status.busy": "2022-09-19T20:03:02.721109Z",
     "iopub.status.idle": "2022-09-19T20:17:58.611515Z",
     "shell.execute_reply": "2022-09-19T20:17:58.610599Z",
     "shell.execute_reply.started": "2022-09-19T20:03:02.722045Z"
    },
    "tags": []
   },
   "outputs": [
    {
     "data": {
      "application/vnd.jupyter.widget-view+json": {
       "model_id": "a3aff01cd84a43379dfb8958dfef806c",
       "version_major": 2,
       "version_minor": 0
      },
      "text/plain": [
       "VBox()"
      ]
     },
     "metadata": {},
     "output_type": "display_data"
    },
    {
     "data": {
      "application/vnd.jupyter.widget-view+json": {
       "model_id": "",
       "version_major": 2,
       "version_minor": 0
      },
      "text/plain": [
       "FloatProgress(value=0.0, bar_style='info', description='Progress:', layout=Layout(height='25px', width='50%'),…"
      ]
     },
     "metadata": {},
     "output_type": "display_data"
    }
   ],
   "source": [
    "# read song data file\n",
    "song_df = spark.read.json(song_data)\n",
    "\n",
    "# extract columns to create songs table\n",
    "# songs_table = song_df.select('song_id', 'title', 'artist_id','year', 'duration').dropDuplicates()\n",
    "songs_table = song_df.select([\"song_id\", \"title\", \"artist_id\", \"year\", \"duration\"]).distinct()\n",
    "songs_table.createOrReplaceTempView('songs')"
   ]
  },
  {
   "cell_type": "code",
   "execution_count": null,
   "metadata": {
    "editable": true,
    "tags": []
   },
   "outputs": [],
   "source": [
    "# write songs table to parquet files partitioned by year and artist\n",
    "songs_table.write.partitionBy('year', 'artist_id') \\\n",
    "                 .parquet(os.path.join(output_data, 'songs/songs.parquet'), 'overwrite')"
   ]
  },
  {
   "cell_type": "code",
   "execution_count": 9,
   "metadata": {
    "editable": true,
    "execution": {
     "iopub.execute_input": "2022-09-19T20:19:17.312474Z",
     "iopub.status.busy": "2022-09-19T20:19:17.311681Z",
     "iopub.status.idle": "2022-09-19T20:24:49.462995Z",
     "shell.execute_reply": "2022-09-19T20:24:49.462094Z",
     "shell.execute_reply.started": "2022-09-19T20:19:17.312436Z"
    }
   },
   "outputs": [
    {
     "data": {
      "application/vnd.jupyter.widget-view+json": {
       "model_id": "716c2f635a1e40958dd3b361f913b0ec",
       "version_major": 2,
       "version_minor": 0
      },
      "text/plain": [
       "VBox()"
      ]
     },
     "metadata": {},
     "output_type": "display_data"
    },
    {
     "data": {
      "application/vnd.jupyter.widget-view+json": {
       "model_id": "",
       "version_major": 2,
       "version_minor": 0
      },
      "text/plain": [
       "FloatProgress(value=0.0, bar_style='info', description='Progress:', layout=Layout(height='25px', width='50%'),…"
      ]
     },
     "metadata": {},
     "output_type": "display_data"
    },
    {
     "name": "stdout",
     "output_type": "stream",
     "text": [
      "+------------------+----------------------------------------------------+------------------+----+---------+\n",
      "|song_id           |title                                               |artist_id         |year|duration |\n",
      "+------------------+----------------------------------------------------+------------------+----+---------+\n",
      "|SOHQZIB12A6D4F9FAF|N****_ What's Up [Featuring 50 Cent] (Album Version)|ARWAFY51187FB5C4EF|2006|196.85832|\n",
      "|SOUCTAJ12AB018F4F4|Laat het licht maar uit (we doen het in 't donker)  |ARPZTBN12086C1563D|2008|222.06649|\n",
      "|SOQWBCS12A58A7C2C3|Train Track                                         |ARV62991187B99DE55|2007|168.64608|\n",
      "|SOVEHRU12AB017CEE6|Tomorrow We Sail (Jazz)                             |AR2LRXK1187FB593DD|0   |324.85832|\n",
      "|SONWUEN12AB018329C|Welcome (instr)                                     |AR6OQLJ1187B9B032E|0   |189.17832|\n",
      "+------------------+----------------------------------------------------+------------------+----+---------+\n",
      "only showing top 5 rows"
     ]
    }
   ],
   "source": [
    "songs_table.show(5, False)"
   ]
  },
  {
   "cell_type": "markdown",
   "metadata": {
    "editable": true
   },
   "source": [
    "## Extract Artists table & Create parquet file"
   ]
  },
  {
   "cell_type": "code",
   "execution_count": 10,
   "metadata": {
    "editable": true,
    "execution": {
     "iopub.execute_input": "2022-09-19T20:25:29.005852Z",
     "iopub.status.busy": "2022-09-19T20:25:29.005024Z",
     "iopub.status.idle": "2022-09-19T20:25:29.331494Z",
     "shell.execute_reply": "2022-09-19T20:25:29.330533Z",
     "shell.execute_reply.started": "2022-09-19T20:25:29.005813Z"
    }
   },
   "outputs": [
    {
     "data": {
      "application/vnd.jupyter.widget-view+json": {
       "model_id": "5e191909b0df4f2eab7da5855d1bf832",
       "version_major": 2,
       "version_minor": 0
      },
      "text/plain": [
       "VBox()"
      ]
     },
     "metadata": {},
     "output_type": "display_data"
    },
    {
     "data": {
      "application/vnd.jupyter.widget-view+json": {
       "model_id": "",
       "version_major": 2,
       "version_minor": 0
      },
      "text/plain": [
       "FloatProgress(value=0.0, bar_style='info', description='Progress:', layout=Layout(height='25px', width='50%'),…"
      ]
     },
     "metadata": {},
     "output_type": "display_data"
    }
   ],
   "source": [
    "# extract columns to create artists table\n",
    "artists_table = song_df.select('artist_id', 'artist_name', 'artist_location',\n",
    "                          'artist_latitude', 'artist_longitude') \\\n",
    "                  .withColumnRenamed('artist_name', 'name') \\\n",
    "                  .withColumnRenamed('artist_location', 'location') \\\n",
    "                  .withColumnRenamed('artist_latitude', 'latitude') \\\n",
    "                  .withColumnRenamed('artist_longitude', 'longitude') \\\n",
    "                  .dropDuplicates()\n",
    "artists_table.createOrReplaceTempView('artists')"
   ]
  },
  {
   "cell_type": "code",
   "execution_count": 15,
   "metadata": {
    "editable": true,
    "execution": {
     "iopub.execute_input": "2022-09-19T20:34:32.490123Z",
     "iopub.status.busy": "2022-09-19T20:34:32.489277Z",
     "iopub.status.idle": "2022-09-19T20:40:17.008317Z",
     "shell.execute_reply": "2022-09-19T20:40:17.007402Z",
     "shell.execute_reply.started": "2022-09-19T20:34:32.490084Z"
    },
    "tags": []
   },
   "outputs": [
    {
     "data": {
      "application/vnd.jupyter.widget-view+json": {
       "model_id": "f1fd9971df994a139548da2c1d7b4517",
       "version_major": 2,
       "version_minor": 0
      },
      "text/plain": [
       "VBox()"
      ]
     },
     "metadata": {},
     "output_type": "display_data"
    },
    {
     "data": {
      "application/vnd.jupyter.widget-view+json": {
       "model_id": "",
       "version_major": 2,
       "version_minor": 0
      },
      "text/plain": [
       "FloatProgress(value=0.0, bar_style='info', description='Progress:', layout=Layout(height='25px', width='50%'),…"
      ]
     },
     "metadata": {},
     "output_type": "display_data"
    }
   ],
   "source": [
    "# write artists table to parquet files\n",
    "# artists_table.write.mode(\"overwrite\")\n",
    "artists_table.write.mode(\"overwrite\").parquet('artists/artists.parquet')"
   ]
  },
  {
   "cell_type": "code",
   "execution_count": null,
   "metadata": {
    "editable": true,
    "execution": {
     "iopub.execute_input": "2022-09-19T20:26:41.177663Z",
     "iopub.status.busy": "2022-09-19T20:26:41.173085Z"
    }
   },
   "outputs": [
    {
     "data": {
      "application/vnd.jupyter.widget-view+json": {
       "model_id": "a6039bc4f79c405dad48b71b3b723d54",
       "version_major": 2,
       "version_minor": 0
      },
      "text/plain": [
       "VBox()"
      ]
     },
     "metadata": {},
     "output_type": "display_data"
    },
    {
     "data": {
      "application/vnd.jupyter.widget-view+json": {
       "model_id": "",
       "version_major": 2,
       "version_minor": 0
      },
      "text/plain": [
       "FloatProgress(value=0.0, bar_style='info', description='Progress:', layout=Layout(height='25px', width='50%'),…"
      ]
     },
     "metadata": {},
     "output_type": "display_data"
    },
    {
     "name": "stdout",
     "output_type": "stream",
     "text": [
      "+------------------+-----------------+--------------------+--------+----------+\n",
      "|artist_id         |name             |location            |latitude|longitude |\n",
      "+------------------+-----------------+--------------------+--------+----------+\n",
      "|ARQSM561187FB4A0CF|Jack's Mannequin |Orange County , USA |33.6671 |-117.76505|\n",
      "|ARKC83D1187B9AB367|Mark Lowry       |                    |null    |null      |\n",
      "|AR6A42V1187FB47B61|The Apathy Eulogy|                    |null    |null      |\n",
      "|ARNJ7441187B999AFD|Serge Gainsbourg |Paris, France       |48.85692|2.34121   |\n",
      "|ARG4K2W1187B99EA5D|Charles Aznavour |Virginia            |38.00335|-79.77127 |\n",
      "+------------------+-----------------+--------------------+--------+----------+\n",
      "only showing top 5 rows"
     ]
    }
   ],
   "source": [
    "artists_table.show(5, truncate = False)"
   ]
  },
  {
   "cell_type": "markdown",
   "metadata": {
    "editable": true
   },
   "source": [
    "## Process log Data"
   ]
  },
  {
   "cell_type": "code",
   "execution_count": 20,
   "metadata": {
    "editable": true,
    "execution": {
     "iopub.execute_input": "2022-09-19T20:45:44.460800Z",
     "iopub.status.busy": "2022-09-19T20:45:44.460003Z",
     "iopub.status.idle": "2022-09-19T20:46:04.245347Z",
     "shell.execute_reply": "2022-09-19T20:46:04.244470Z",
     "shell.execute_reply.started": "2022-09-19T20:45:44.460762Z"
    },
    "tags": []
   },
   "outputs": [
    {
     "data": {
      "application/vnd.jupyter.widget-view+json": {
       "model_id": "7ca5ef36a35c4a2cb9e3c1f04df82a2f",
       "version_major": 2,
       "version_minor": 0
      },
      "text/plain": [
       "VBox()"
      ]
     },
     "metadata": {},
     "output_type": "display_data"
    },
    {
     "data": {
      "application/vnd.jupyter.widget-view+json": {
       "model_id": "",
       "version_major": 2,
       "version_minor": 0
      },
      "text/plain": [
       "FloatProgress(value=0.0, bar_style='info', description='Progress:', layout=Layout(height='25px', width='50%'),…"
      ]
     },
     "metadata": {},
     "output_type": "display_data"
    }
   ],
   "source": [
    "# get filepath to log data file\n",
    "log_data = input_data + 'log_data/*/*/'\n",
    "\n",
    "# read log data file\n",
    "log_df = spark.read.json(log_data)"
   ]
  },
  {
   "cell_type": "code",
   "execution_count": 21,
   "metadata": {
    "editable": true,
    "execution": {
     "iopub.execute_input": "2022-09-19T21:02:29.508336Z",
     "iopub.status.busy": "2022-09-19T21:02:29.507493Z",
     "iopub.status.idle": "2022-09-19T21:02:39.211396Z",
     "shell.execute_reply": "2022-09-19T21:02:39.210427Z",
     "shell.execute_reply.started": "2022-09-19T21:02:29.508297Z"
    }
   },
   "outputs": [
    {
     "data": {
      "application/vnd.jupyter.widget-view+json": {
       "model_id": "203ec39a358a40bba0d5b60994588a59",
       "version_major": 2,
       "version_minor": 0
      },
      "text/plain": [
       "VBox()"
      ]
     },
     "metadata": {},
     "output_type": "display_data"
    },
    {
     "data": {
      "application/vnd.jupyter.widget-view+json": {
       "model_id": "",
       "version_major": 2,
       "version_minor": 0
      },
      "text/plain": [
       "FloatProgress(value=0.0, bar_style='info', description='Progress:', layout=Layout(height='25px', width='50%'),…"
      ]
     },
     "metadata": {},
     "output_type": "display_data"
    },
    {
     "name": "stdout",
     "output_type": "stream",
     "text": [
      "+-----------+---------+---------+------+-------------+--------+---------+-----+--------------------+------+--------+-----------------+---------+---------------+------+-------------+--------------------+------+\n",
      "|     artist|     auth|firstName|gender|itemInSession|lastName|   length|level|            location|method|    page|     registration|sessionId|           song|status|           ts|           userAgent|userId|\n",
      "+-----------+---------+---------+------+-------------+--------+---------+-----+--------------------+------+--------+-----------------+---------+---------------+------+-------------+--------------------+------+\n",
      "|   Harmonia|Logged In|     Ryan|     M|            0|   Smith|655.77751| free|San Jose-Sunnyval...|   PUT|NextSong|1.541016707796E12|      583|  Sehr kosmisch|   200|1542241826796|\"Mozilla/5.0 (X11...|    26|\n",
      "|The Prodigy|Logged In|     Ryan|     M|            1|   Smith|260.07465| free|San Jose-Sunnyval...|   PUT|NextSong|1.541016707796E12|      583|The Big Gundown|   200|1542242481796|\"Mozilla/5.0 (X11...|    26|\n",
      "+-----------+---------+---------+------+-------------+--------+---------+-----+--------------------+------+--------+-----------------+---------+---------------+------+-------------+--------------------+------+\n",
      "only showing top 2 rows"
     ]
    }
   ],
   "source": [
    "log_df.show(2)"
   ]
  },
  {
   "cell_type": "code",
   "execution_count": 22,
   "metadata": {
    "editable": true,
    "execution": {
     "iopub.execute_input": "2022-09-19T21:03:02.244497Z",
     "iopub.status.busy": "2022-09-19T21:03:02.243662Z",
     "iopub.status.idle": "2022-09-19T21:03:02.775625Z",
     "shell.execute_reply": "2022-09-19T21:03:02.774592Z",
     "shell.execute_reply.started": "2022-09-19T21:03:02.244458Z"
    }
   },
   "outputs": [
    {
     "data": {
      "application/vnd.jupyter.widget-view+json": {
       "model_id": "b9165f547530495f97bcb9d5f015f4ac",
       "version_major": 2,
       "version_minor": 0
      },
      "text/plain": [
       "VBox()"
      ]
     },
     "metadata": {},
     "output_type": "display_data"
    },
    {
     "data": {
      "application/vnd.jupyter.widget-view+json": {
       "model_id": "",
       "version_major": 2,
       "version_minor": 0
      },
      "text/plain": [
       "FloatProgress(value=0.0, bar_style='info', description='Progress:', layout=Layout(height='25px', width='50%'),…"
      ]
     },
     "metadata": {},
     "output_type": "display_data"
    }
   ],
   "source": [
    "# filter by actions for song plays\n",
    "actions_df = log_df.filter(log_df.page == 'NextSong') \\\n",
    "               .select('ts', 'userId', 'level', 'song', 'artist',\n",
    "                       'sessionId', 'location', 'userAgent')\n",
    "# create timestamp column from original timestamp column\n",
    "get_timestamp = udf(lambda x: str(int(int(x)/1000)))\n",
    "actions_df = actions_df.withColumn('timestamp', get_timestamp(actions_df.ts))\n",
    "\n",
    "\n",
    "# create datetime column from original timestamp column\n",
    "get_datetime = udf(lambda x: str(datetime.fromtimestamp(int(x) / 1000)))\n",
    "actions_df = actions_df.withColumn('datetime', get_datetime(actions_df.ts))"
   ]
  },
  {
   "cell_type": "code",
   "execution_count": 24,
   "metadata": {
    "editable": true,
    "execution": {
     "iopub.execute_input": "2022-09-19T21:05:29.712373Z",
     "iopub.status.busy": "2022-09-19T21:05:29.711504Z",
     "iopub.status.idle": "2022-09-19T21:05:30.026258Z",
     "shell.execute_reply": "2022-09-19T21:05:29.978846Z",
     "shell.execute_reply.started": "2022-09-19T21:05:29.712335Z"
    },
    "tags": []
   },
   "outputs": [
    {
     "data": {
      "application/vnd.jupyter.widget-view+json": {
       "model_id": "59cd8c2db2ab4367bc828b216fe68eb9",
       "version_major": 2,
       "version_minor": 0
      },
      "text/plain": [
       "VBox()"
      ]
     },
     "metadata": {},
     "output_type": "display_data"
    },
    {
     "data": {
      "application/vnd.jupyter.widget-view+json": {
       "model_id": "",
       "version_major": 2,
       "version_minor": 0
      },
      "text/plain": [
       "FloatProgress(value=0.0, bar_style='info', description='Progress:', layout=Layout(height='25px', width='50%'),…"
      ]
     },
     "metadata": {},
     "output_type": "display_data"
    }
   ],
   "source": [
    "# extract columns for users table    \n",
    "users_table = log_df.select('userId', 'firstName', 'lastName',\n",
    "                        'gender', 'level').dropDuplicates()\n",
    "users_table.createOrReplaceTempView('users')"
   ]
  },
  {
   "cell_type": "code",
   "execution_count": 25,
   "metadata": {
    "editable": true,
    "execution": {
     "iopub.execute_input": "2022-09-19T21:05:35.676085Z",
     "iopub.status.busy": "2022-09-19T21:05:35.673115Z",
     "iopub.status.idle": "2022-09-19T21:05:59.582512Z",
     "shell.execute_reply": "2022-09-19T21:05:59.581660Z",
     "shell.execute_reply.started": "2022-09-19T21:05:35.676042Z"
    }
   },
   "outputs": [
    {
     "data": {
      "application/vnd.jupyter.widget-view+json": {
       "model_id": "dbc9128744d74efa81f519d2a6f925fa",
       "version_major": 2,
       "version_minor": 0
      },
      "text/plain": [
       "VBox()"
      ]
     },
     "metadata": {},
     "output_type": "display_data"
    },
    {
     "data": {
      "application/vnd.jupyter.widget-view+json": {
       "model_id": "",
       "version_major": 2,
       "version_minor": 0
      },
      "text/plain": [
       "FloatProgress(value=0.0, bar_style='info', description='Progress:', layout=Layout(height='25px', width='50%'),…"
      ]
     },
     "metadata": {},
     "output_type": "display_data"
    }
   ],
   "source": [
    "# write users table to parquet files\n",
    "users_table.write.mode(\"overwrite\").parquet('users/users.parquet')"
   ]
  },
  {
   "cell_type": "code",
   "execution_count": 26,
   "metadata": {
    "editable": true,
    "execution": {
     "iopub.execute_input": "2022-09-19T21:06:18.271877Z",
     "iopub.status.busy": "2022-09-19T21:06:18.271505Z",
     "iopub.status.idle": "2022-09-19T21:06:28.129324Z",
     "shell.execute_reply": "2022-09-19T21:06:28.128250Z",
     "shell.execute_reply.started": "2022-09-19T21:06:18.271840Z"
    }
   },
   "outputs": [
    {
     "data": {
      "application/vnd.jupyter.widget-view+json": {
       "model_id": "6a495b8619dd4ed4b29f9886a07e3f9a",
       "version_major": 2,
       "version_minor": 0
      },
      "text/plain": [
       "VBox()"
      ]
     },
     "metadata": {},
     "output_type": "display_data"
    },
    {
     "data": {
      "application/vnd.jupyter.widget-view+json": {
       "model_id": "",
       "version_major": 2,
       "version_minor": 0
      },
      "text/plain": [
       "FloatProgress(value=0.0, bar_style='info', description='Progress:', layout=Layout(height='25px', width='50%'),…"
      ]
     },
     "metadata": {},
     "output_type": "display_data"
    },
    {
     "name": "stdout",
     "output_type": "stream",
     "text": [
      "+------+---------+--------+------+-----+\n",
      "|userId|firstName|lastName|gender|level|\n",
      "+------+---------+--------+------+-----+\n",
      "|57    |Katherine|Gay     |F     |free |\n",
      "|84    |Shakira  |Hunt    |F     |free |\n",
      "|22    |Sean     |Wilson  |F     |free |\n",
      "|52    |Theodore |Smith   |M     |free |\n",
      "|80    |Tegan    |Levine  |F     |paid |\n",
      "+------+---------+--------+------+-----+\n",
      "only showing top 5 rows"
     ]
    }
   ],
   "source": [
    "users_table.show(5, truncate = False)"
   ]
  },
  {
   "cell_type": "code",
   "execution_count": 27,
   "metadata": {
    "editable": true,
    "execution": {
     "iopub.execute_input": "2022-09-19T21:08:00.864654Z",
     "iopub.status.busy": "2022-09-19T21:08:00.863782Z",
     "iopub.status.idle": "2022-09-19T21:08:01.371720Z",
     "shell.execute_reply": "2022-09-19T21:08:01.370778Z",
     "shell.execute_reply.started": "2022-09-19T21:08:00.864616Z"
    }
   },
   "outputs": [
    {
     "data": {
      "application/vnd.jupyter.widget-view+json": {
       "model_id": "41b0cea3863a4878bfcebcc3fb403a50",
       "version_major": 2,
       "version_minor": 0
      },
      "text/plain": [
       "VBox()"
      ]
     },
     "metadata": {},
     "output_type": "display_data"
    },
    {
     "data": {
      "application/vnd.jupyter.widget-view+json": {
       "model_id": "",
       "version_major": 2,
       "version_minor": 0
      },
      "text/plain": [
       "FloatProgress(value=0.0, bar_style='info', description='Progress:', layout=Layout(height='25px', width='50%'),…"
      ]
     },
     "metadata": {},
     "output_type": "display_data"
    }
   ],
   "source": [
    "# extract columns to create time table\n",
    "time_table = actions_df.select('datetime') \\\n",
    "                       .withColumn('start_time', actions_df.datetime) \\\n",
    "                       .withColumn('hour', hour('datetime')) \\\n",
    "                       .withColumn('day', dayofmonth('datetime')) \\\n",
    "                       .withColumn('week', weekofyear('datetime')) \\\n",
    "                       .withColumn('month', month('datetime')) \\\n",
    "                       .withColumn('year', year('datetime')) \\\n",
    "                       .withColumn('weekday', dayofweek('datetime')) \\\n",
    "                       .dropDuplicates()"
   ]
  },
  {
   "cell_type": "code",
   "execution_count": 29,
   "metadata": {
    "editable": true,
    "execution": {
     "iopub.execute_input": "2022-09-19T21:13:44.614094Z",
     "iopub.status.busy": "2022-09-19T21:13:44.613155Z",
     "iopub.status.idle": "2022-09-19T21:14:12.541385Z",
     "shell.execute_reply": "2022-09-19T21:14:12.540499Z",
     "shell.execute_reply.started": "2022-09-19T21:13:44.614052Z"
    },
    "tags": []
   },
   "outputs": [
    {
     "data": {
      "application/vnd.jupyter.widget-view+json": {
       "model_id": "a1f72535a3874b82920e71553424b2c8",
       "version_major": 2,
       "version_minor": 0
      },
      "text/plain": [
       "VBox()"
      ]
     },
     "metadata": {},
     "output_type": "display_data"
    },
    {
     "data": {
      "application/vnd.jupyter.widget-view+json": {
       "model_id": "",
       "version_major": 2,
       "version_minor": 0
      },
      "text/plain": [
       "FloatProgress(value=0.0, bar_style='info', description='Progress:', layout=Layout(height='25px', width='50%'),…"
      ]
     },
     "metadata": {},
     "output_type": "display_data"
    }
   ],
   "source": [
    "# write time table to parquet files partitioned by year and month\n",
    "time_table.write.partitionBy('year', 'month').mode(\"overwrite\") \\\n",
    "                .parquet('time/time.parquet')"
   ]
  },
  {
   "cell_type": "code",
   "execution_count": 30,
   "metadata": {
    "editable": true,
    "execution": {
     "iopub.execute_input": "2022-09-19T21:16:03.220590Z",
     "iopub.status.busy": "2022-09-19T21:16:03.219784Z",
     "iopub.status.idle": "2022-09-19T21:27:47.260437Z",
     "shell.execute_reply": "2022-09-19T21:27:47.259528Z",
     "shell.execute_reply.started": "2022-09-19T21:16:03.220552Z"
    },
    "tags": []
   },
   "outputs": [
    {
     "data": {
      "application/vnd.jupyter.widget-view+json": {
       "model_id": "f2db8d2bcde84e378f4ef856ff9572f4",
       "version_major": 2,
       "version_minor": 0
      },
      "text/plain": [
       "VBox()"
      ]
     },
     "metadata": {},
     "output_type": "display_data"
    },
    {
     "data": {
      "application/vnd.jupyter.widget-view+json": {
       "model_id": "",
       "version_major": 2,
       "version_minor": 0
      },
      "text/plain": [
       "FloatProgress(value=0.0, bar_style='info', description='Progress:', layout=Layout(height='25px', width='50%'),…"
      ]
     },
     "metadata": {},
     "output_type": "display_data"
    }
   ],
   "source": [
    "# read in song data to use for songplays table\n",
    "song_df = spark.read.json(input_data + 'song_data/*/*/*/*.json')\n",
    "\n",
    "# extract columns from joined song and log datasets to create songplays table\n",
    "actions_df = actions_df.alias('log_df')\n",
    "song_df = song_df.alias('song_df')\n",
    "joined_df = actions_df.join(song_df, col('log_df.artist') == col(\n",
    "    'song_df.artist_name'), 'inner')\n",
    "songplays_table = joined_df.select(\n",
    "    col('log_df.datetime').alias('start_time'),\n",
    "    col('log_df.userId').alias('user_id'),\n",
    "    col('log_df.level').alias('level'),\n",
    "    col('song_df.song_id').alias('song_id'),\n",
    "    col('song_df.artist_id').alias('artist_id'),\n",
    "    col('log_df.sessionId').alias('session_id'),\n",
    "    col('log_df.location').alias('location'), \n",
    "    col('log_df.userAgent').alias('user_agent'),\n",
    "    year('log_df.datetime').alias('year'),\n",
    "    month('log_df.datetime').alias('month')) \\\n",
    "    .withColumn('songplay_id', monotonically_increasing_id())\n",
    "\n",
    "songplays_table.createOrReplaceTempView('songplays')\n",
    "# write songplays table to parquet files partitioned by year and month\n",
    "time_table = time_table.alias('timetable')"
   ]
  },
  {
   "cell_type": "code",
   "execution_count": 31,
   "metadata": {
    "editable": true,
    "execution": {
     "iopub.execute_input": "2022-09-19T21:27:56.288547Z",
     "iopub.status.busy": "2022-09-19T21:27:56.287737Z",
     "iopub.status.idle": "2022-09-19T21:31:53.651205Z",
     "shell.execute_reply": "2022-09-19T21:31:53.650289Z",
     "shell.execute_reply.started": "2022-09-19T21:27:56.288507Z"
    }
   },
   "outputs": [
    {
     "data": {
      "application/vnd.jupyter.widget-view+json": {
       "model_id": "41ecc139912d477e9a4e5fa592661660",
       "version_major": 2,
       "version_minor": 0
      },
      "text/plain": [
       "VBox()"
      ]
     },
     "metadata": {},
     "output_type": "display_data"
    },
    {
     "data": {
      "application/vnd.jupyter.widget-view+json": {
       "model_id": "",
       "version_major": 2,
       "version_minor": 0
      },
      "text/plain": [
       "FloatProgress(value=0.0, bar_style='info', description='Progress:', layout=Layout(height='25px', width='50%'),…"
      ]
     },
     "metadata": {},
     "output_type": "display_data"
    }
   ],
   "source": [
    "songplays_table.write.partitionBy('year', 'month').mode(\"overwrite\") \\\n",
    ".parquet('songplays/songplays.parquet')"
   ]
  },
  {
   "cell_type": "code",
   "execution_count": 38,
   "metadata": {
    "editable": true,
    "execution": {
     "iopub.execute_input": "2022-09-19T21:45:22.616343Z",
     "iopub.status.busy": "2022-09-19T21:45:22.615505Z",
     "iopub.status.idle": "2022-09-19T21:45:40.489508Z",
     "shell.execute_reply": "2022-09-19T21:45:40.486542Z",
     "shell.execute_reply.started": "2022-09-19T21:45:22.616280Z"
    }
   },
   "outputs": [
    {
     "data": {
      "application/vnd.jupyter.widget-view+json": {
       "model_id": "eb84e2bd74c84b0c8b0256a68215f09a",
       "version_major": 2,
       "version_minor": 0
      },
      "text/plain": [
       "VBox()"
      ]
     },
     "metadata": {},
     "output_type": "display_data"
    },
    {
     "data": {
      "application/vnd.jupyter.widget-view+json": {
       "model_id": "",
       "version_major": 2,
       "version_minor": 0
      },
      "text/plain": [
       "FloatProgress(value=0.0, bar_style='info', description='Progress:', layout=Layout(height='25px', width='50%'),…"
      ]
     },
     "metadata": {},
     "output_type": "display_data"
    },
    {
     "name": "stdout",
     "output_type": "stream",
     "text": [
      "+--------------------+-------+-----+------------------+------------------+----------+--------------------+--------------------+----+-----+-----------+\n",
      "|          start_time|user_id|level|           song_id|         artist_id|session_id|            location|          user_agent|year|month|songplay_id|\n",
      "+--------------------+-------+-----+------------------+------------------+----------+--------------------+--------------------+----+-----+-----------+\n",
      "|2018-11-17 14:13:...|     73| paid|SOVIYJY12AF72A4B00|AR4T2IF1187B9ADBB7|       518|Tampa-St. Petersb...|\"Mozilla/5.0 (Mac...|2018|   11|          0|\n",
      "|2018-11-28 09:46:...|     82| paid|SOVIYJY12AF72A4B00|AR4T2IF1187B9ADBB7|       140|Atlanta-Sandy Spr...|\"Mozilla/5.0 (Mac...|2018|   11|          1|\n",
      "|2018-11-15 19:38:...|     97| paid|SOVIYJY12AF72A4B00|AR4T2IF1187B9ADBB7|       605|Lansing-East Lans...|\"Mozilla/5.0 (X11...|2018|   11|          2|\n",
      "|2018-11-17 14:13:...|     73| paid|SOVYXYL12AF72A3373|AR4T2IF1187B9ADBB7|       518|Tampa-St. Petersb...|\"Mozilla/5.0 (Mac...|2018|   11|          3|\n",
      "|2018-11-28 09:46:...|     82| paid|SOVYXYL12AF72A3373|AR4T2IF1187B9ADBB7|       140|Atlanta-Sandy Spr...|\"Mozilla/5.0 (Mac...|2018|   11|          4|\n",
      "+--------------------+-------+-----+------------------+------------------+----------+--------------------+--------------------+----+-----+-----------+\n",
      "only showing top 5 rows"
     ]
    }
   ],
   "source": [
    "songplays_table.show(5)"
   ]
  }
 ],
 "metadata": {
  "kernelspec": {
   "display_name": "Python 3",
   "language": "python",
   "name": "python3"
  },
  "language_info": {
   "codemirror_mode": {
    "name": "ipython",
    "version": 3
   },
   "file_extension": ".py",
   "mimetype": "text/x-python",
   "name": "python",
   "nbconvert_exporter": "python",
   "pygments_lexer": "ipython3",
   "version": "3.6.3"
  }
 },
 "nbformat": 4,
 "nbformat_minor": 5
}
